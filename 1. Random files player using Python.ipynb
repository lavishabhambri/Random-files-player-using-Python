{
 "cells": [
  {
   "cell_type": "markdown",
   "metadata": {},
   "source": [
    "# To create a python program where we can open a random file inside a folder"
   ]
  },
  {
   "cell_type": "code",
   "execution_count": 7,
   "metadata": {},
   "outputs": [
    {
     "name": "stdout",
     "output_type": "stream",
     "text": [
      "['PPT 1', 'PPT2', 'PPT3', 'PPT4', 'PPT5', 'PPT6']\n",
      "Enjoy!\n"
     ]
    },
    {
     "data": {
      "text/plain": [
       "1"
      ]
     },
     "execution_count": 7,
     "metadata": {},
     "output_type": "execute_result"
    }
   ],
   "source": [
    "import os\n",
    "import random\n",
    "\n",
    "#path of folder where files are present\n",
    "p = r\"C:\\Users\\DELL\\Desktop\\ME_Workshop\"  \n",
    "\n",
    "#we have changed the directory\n",
    "os.chdir(p)  \n",
    "\n",
    "#prints the list of all the directories present inside the folder\n",
    "print(os.listdir(p))   \n",
    "\n",
    "#to get random episodes out of these folders\n",
    "folder_name = random.choice(os.listdir(p))\n",
    "\n",
    "#to get the path of the folder.\n",
    "folder_path = str(os.path.realpath(folder_name))   \n",
    "\n",
    "#we changed the directory in the randomly selected folder\n",
    "os.chdir(folder_path)  \n",
    "\n",
    "#now we are getting some random file in the random folder.\n",
    "file_name = random.choice(os.listdir(folder_path))\n",
    "\n",
    "print(\"Enjoy!\")\n",
    "\n",
    "#to play the file\n",
    "os.system(\"start\" + file_name)  #for windows\n",
    "#os.system(\"open \" + file_name) # mac"
   ]
  }
 ],
 "metadata": {
  "kernelspec": {
   "display_name": "Python 3",
   "language": "python",
   "name": "python3"
  },
  "language_info": {
   "codemirror_mode": {
    "name": "ipython",
    "version": 3
   },
   "file_extension": ".py",
   "mimetype": "text/x-python",
   "name": "python",
   "nbconvert_exporter": "python",
   "pygments_lexer": "ipython3",
   "version": "3.7.6"
  }
 },
 "nbformat": 4,
 "nbformat_minor": 4
}
